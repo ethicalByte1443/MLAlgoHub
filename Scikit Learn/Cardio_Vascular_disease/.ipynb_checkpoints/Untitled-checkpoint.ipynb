{
 "cells": [
  {
   "cell_type": "code",
   "execution_count": 1,
   "id": "9d5bb41c-bd72-41df-812f-9a0377c8d300",
   "metadata": {},
   "outputs": [],
   "source": [
    "import pandas as pd"
   ]
  },
  {
   "cell_type": "code",
   "execution_count": 3,
   "id": "63f36f0d-809d-4e8a-a89a-d935ff73e2bf",
   "metadata": {},
   "outputs": [
    {
     "name": "stdout",
     "output_type": "stream",
     "text": [
      "New CSV file created: formated_cardio_train.csv\n"
     ]
    },
    {
     "name": "stderr",
     "output_type": "stream",
     "text": [
      "C:\\Users\\Aseem\\AppData\\Local\\Temp\\ipykernel_24492\\213249269.py:3: DtypeWarning: Columns (0,1,2,3,4,5,6,7,8,9,10,11,12) have mixed types. Specify dtype option on import or set low_memory=False.\n",
      "  df = pd.read_csv(file_path, header=None, delimiter=';')\n"
     ]
    }
   ],
   "source": [
    "# Read the original CSV file where rows are separated by semicolons\n",
    "file_path = 'cardio_train.csv'  # Update with your file path\n",
    "df = pd.read_csv(file_path, header=None, delimiter=';')\n",
    "\n",
    "# Define the column names\n",
    "columns = ['id', 'age', 'gender', 'height', 'weight', 'ap_hi', 'ap_lo', 'cholesterol', 'gluc', 'smoke', 'alco', 'active', 'cardio']\n",
    "\n",
    "# Assign column names to the dataframe\n",
    "df.columns = columns\n",
    "\n",
    "# Save the new CSV with separate columns\n",
    "new_file_path = 'formated_cardio_train.csv'  # The new file with separated columns\n",
    "df.to_csv(new_file_path, index=False)\n",
    "\n",
    "print(f\"New CSV file created: {new_file_path}\")\n"
   ]
  },
  {
   "cell_type": "code",
   "execution_count": null,
   "id": "b62cf103-9ad4-496c-a205-11b0a746a5ee",
   "metadata": {},
   "outputs": [],
   "source": []
  }
 ],
 "metadata": {
  "kernelspec": {
   "display_name": "Python 3 (ipykernel)",
   "language": "python",
   "name": "python3"
  },
  "language_info": {
   "codemirror_mode": {
    "name": "ipython",
    "version": 3
   },
   "file_extension": ".py",
   "mimetype": "text/x-python",
   "name": "python",
   "nbconvert_exporter": "python",
   "pygments_lexer": "ipython3",
   "version": "3.12.4"
  }
 },
 "nbformat": 4,
 "nbformat_minor": 5
}
