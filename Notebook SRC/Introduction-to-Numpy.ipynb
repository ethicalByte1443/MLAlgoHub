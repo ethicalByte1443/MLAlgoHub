{
 "cells": [
  {
   "cell_type": "code",
   "execution_count": 1,
   "id": "401bec77-2fdd-4dd6-9931-af908cad89a5",
   "metadata": {},
   "outputs": [],
   "source": [
    "import numpy as np"
   ]
  },
  {
   "cell_type": "markdown",
   "id": "1f2cbcf8-8c81-486a-934a-6c81e27753b6",
   "metadata": {},
   "source": [
    "# *Datatypes and Attributes*"
   ]
  },
  {
   "cell_type": "code",
   "execution_count": 2,
   "id": "fe8f3a70-3d20-4e87-bcbb-e36f46e24148",
   "metadata": {},
   "outputs": [],
   "source": [
    "# ndarray in the main datatype  of numpy\n",
    "a1 = np.array([1,2,3,4,5])"
   ]
  },
  {
   "cell_type": "code",
   "execution_count": 3,
   "id": "5c88e574-57c5-4f2e-8c0a-fed00a4927c5",
   "metadata": {},
   "outputs": [
    {
     "data": {
      "text/plain": [
       "array([1, 2, 3, 4, 5])"
      ]
     },
     "execution_count": 3,
     "metadata": {},
     "output_type": "execute_result"
    }
   ],
   "source": [
    "a1"
   ]
  },
  {
   "cell_type": "code",
   "execution_count": 4,
   "id": "fbeb1037-64bd-4a3b-a2b6-1ec983166cb3",
   "metadata": {},
   "outputs": [
    {
     "data": {
      "text/plain": [
       "array([[1, 2, 3, 4],\n",
       "       [5, 6, 7, 8]])"
      ]
     },
     "execution_count": 4,
     "metadata": {},
     "output_type": "execute_result"
    }
   ],
   "source": [
    "a2 = np.array([[1,2,3,4],[5,6,7,8]])\n",
    "a2"
   ]
  },
  {
   "cell_type": "code",
   "execution_count": 5,
   "id": "3b93f3dd-c527-4164-90af-d051752c2ec5",
   "metadata": {},
   "outputs": [],
   "source": [
    "a3 = np.array([[[1,2,3,4],\n",
    "                [1,1,2,3],\n",
    "                [1,2,3,5]],\n",
    "               \n",
    "                [[1,2,3,4],\n",
    "                [1,1,2,3],\n",
    "                [1,2,3,5]]])"
   ]
  },
  {
   "cell_type": "code",
   "execution_count": 6,
   "id": "58d07d7d-3571-40a9-9014-2b34da929537",
   "metadata": {},
   "outputs": [
    {
     "data": {
      "text/plain": [
       "array([[[1, 2, 3, 4],\n",
       "        [1, 1, 2, 3],\n",
       "        [1, 2, 3, 5]],\n",
       "\n",
       "       [[1, 2, 3, 4],\n",
       "        [1, 1, 2, 3],\n",
       "        [1, 2, 3, 5]]])"
      ]
     },
     "execution_count": 6,
     "metadata": {},
     "output_type": "execute_result"
    }
   ],
   "source": [
    "a3"
   ]
  },
  {
   "cell_type": "code",
   "execution_count": 7,
   "id": "d9a9a94d-0771-41c7-95b7-531a8b979028",
   "metadata": {},
   "outputs": [
    {
     "data": {
      "text/plain": [
       "(5,)"
      ]
     },
     "execution_count": 7,
     "metadata": {},
     "output_type": "execute_result"
    }
   ],
   "source": [
    "a1.shape"
   ]
  },
  {
   "cell_type": "code",
   "execution_count": 8,
   "id": "b14fea32-d3f1-48ef-b303-cf30ff1a88af",
   "metadata": {},
   "outputs": [
    {
     "data": {
      "text/plain": [
       "(2, 4)"
      ]
     },
     "execution_count": 8,
     "metadata": {},
     "output_type": "execute_result"
    }
   ],
   "source": [
    "a2.shape"
   ]
  },
  {
   "cell_type": "code",
   "execution_count": 9,
   "id": "67a043af-2546-48cb-8bc8-9d1b66138e1e",
   "metadata": {},
   "outputs": [
    {
     "data": {
      "text/plain": [
       "(2, 3, 4)"
      ]
     },
     "execution_count": 9,
     "metadata": {},
     "output_type": "execute_result"
    }
   ],
   "source": [
    "a3.shape"
   ]
  },
  {
   "cell_type": "code",
   "execution_count": 10,
   "id": "6848b866-457f-49e7-bf42-cd1380951eef",
   "metadata": {},
   "outputs": [],
   "source": [
    "a = a1.ndim, a2.ndim, a3.ndim"
   ]
  },
  {
   "cell_type": "code",
   "execution_count": 11,
   "id": "c0247082-80e3-45bf-a6bd-5ebf9f4f1501",
   "metadata": {},
   "outputs": [
    {
     "data": {
      "text/plain": [
       "(1, 2, 3)"
      ]
     },
     "execution_count": 11,
     "metadata": {},
     "output_type": "execute_result"
    }
   ],
   "source": [
    "a"
   ]
  },
  {
   "cell_type": "code",
   "execution_count": 12,
   "id": "6dfb6d0c-807a-47ca-b0c4-1e4757ac95c4",
   "metadata": {},
   "outputs": [
    {
     "data": {
      "text/plain": [
       "tuple"
      ]
     },
     "execution_count": 12,
     "metadata": {},
     "output_type": "execute_result"
    }
   ],
   "source": [
    "type(a)"
   ]
  },
  {
   "cell_type": "code",
   "execution_count": 13,
   "id": "b3f9269b-7861-406d-8e6e-a6541031b2bb",
   "metadata": {},
   "outputs": [
    {
     "data": {
      "text/plain": [
       "dtype('int32')"
      ]
     },
     "execution_count": 13,
     "metadata": {},
     "output_type": "execute_result"
    }
   ],
   "source": [
    "a1.dtype"
   ]
  },
  {
   "cell_type": "code",
   "execution_count": 14,
   "id": "48cf2a20-29e5-468b-973a-b90863dce400",
   "metadata": {},
   "outputs": [
    {
     "name": "stdout",
     "output_type": "stream",
     "text": [
      "0\n",
      "1\n",
      "2\n"
     ]
    }
   ],
   "source": [
    "x = (i for i in range(3))\n",
    "for i in x:\n",
    "    print(i)\n",
    "for i in x:\n",
    "    print(i)"
   ]
  },
  {
   "cell_type": "markdown",
   "id": "8637024a-b8ac-4917-9b9d-875fd61b8495",
   "metadata": {},
   "source": [
    "# ***Creating Arrays***"
   ]
  },
  {
   "cell_type": "code",
   "execution_count": 15,
   "id": "88d45655-cf87-4894-a165-4f40a6790227",
   "metadata": {},
   "outputs": [],
   "source": [
    "sample_arrays = np.array([1,2,3])"
   ]
  },
  {
   "cell_type": "code",
   "execution_count": 16,
   "id": "95167750-49be-4783-9dba-051cfb4ed515",
   "metadata": {},
   "outputs": [
    {
     "data": {
      "text/plain": [
       "array([1, 2, 3])"
      ]
     },
     "execution_count": 16,
     "metadata": {},
     "output_type": "execute_result"
    }
   ],
   "source": [
    "sample_arrays"
   ]
  },
  {
   "cell_type": "code",
   "execution_count": 17,
   "id": "a501c942-1d2f-4a48-89d1-0963219b3006",
   "metadata": {},
   "outputs": [
    {
     "data": {
      "text/plain": [
       "dtype('int32')"
      ]
     },
     "execution_count": 17,
     "metadata": {},
     "output_type": "execute_result"
    }
   ],
   "source": [
    "sample_arrays.dtype"
   ]
  },
  {
   "cell_type": "code",
   "execution_count": 18,
   "id": "844802fb-c98b-419d-8179-035278206980",
   "metadata": {},
   "outputs": [
    {
     "data": {
      "text/plain": [
       "array([[1, 1, 1],\n",
       "       [1, 1, 1],\n",
       "       [1, 1, 1]], dtype=int64)"
      ]
     },
     "execution_count": 18,
     "metadata": {},
     "output_type": "execute_result"
    }
   ],
   "source": [
    "ones = np.ones((3,3), 'int64')     #default is float64\n",
    "ones"
   ]
  },
  {
   "cell_type": "code",
   "execution_count": 19,
   "id": "84f56e5e-6454-4efd-8c53-19c05bf4f7dd",
   "metadata": {},
   "outputs": [
    {
     "data": {
      "text/plain": [
       "dtype('int64')"
      ]
     },
     "execution_count": 19,
     "metadata": {},
     "output_type": "execute_result"
    }
   ],
   "source": [
    "ones.dtype"
   ]
  },
  {
   "cell_type": "code",
   "execution_count": 20,
   "id": "cc9b374f-b666-4614-882d-35ce03ac9b6b",
   "metadata": {},
   "outputs": [
    {
     "data": {
      "text/plain": [
       "array([[0, 0, 0],\n",
       "       [0, 0, 0],\n",
       "       [0, 0, 0]], dtype=int64)"
      ]
     },
     "execution_count": 20,
     "metadata": {},
     "output_type": "execute_result"
    }
   ],
   "source": [
    "zeros = np.zeros((3,3), 'int64')\n",
    "zeros"
   ]
  },
  {
   "cell_type": "code",
   "execution_count": 21,
   "id": "69d15019-d932-48a4-8d36-72c622fc7952",
   "metadata": {},
   "outputs": [
    {
     "data": {
      "text/plain": [
       "array([0, 2, 4, 6, 8])"
      ]
     },
     "execution_count": 21,
     "metadata": {},
     "output_type": "execute_result"
    }
   ],
   "source": [
    "range_arr = np.arange(0, 10, 2)\n",
    "range_arr"
   ]
  },
  {
   "cell_type": "code",
   "execution_count": 22,
   "id": "d4c165f0-41ed-4ef3-8aa1-3d5b8f18110c",
   "metadata": {},
   "outputs": [
    {
     "data": {
      "text/plain": [
       "array([[5, 6, 3, 2, 6],\n",
       "       [8, 5, 7, 6, 7],\n",
       "       [5, 8, 4, 1, 4]])"
      ]
     },
     "execution_count": 22,
     "metadata": {},
     "output_type": "execute_result"
    }
   ],
   "source": [
    "random_arr = np.random.randint(0, 10, size=(3,5))\n",
    "random_arr"
   ]
  },
  {
   "cell_type": "code",
   "execution_count": 23,
   "id": "f4933f9b-1616-4e66-8f20-1784ad678577",
   "metadata": {},
   "outputs": [],
   "source": [
    "random_arr_2 = np.random.random((3,5))"
   ]
  },
  {
   "cell_type": "code",
   "execution_count": 24,
   "id": "5a67f8ed-e76b-4771-8504-81a656d7ec8e",
   "metadata": {},
   "outputs": [
    {
     "data": {
      "text/plain": [
       "array([[0.6429464 , 0.10591409, 0.90378308, 0.7057715 , 0.08828653],\n",
       "       [0.46309044, 0.68820687, 0.01102463, 0.94033135, 0.82802949],\n",
       "       [0.64049035, 0.66359879, 0.35529201, 0.16577359, 0.71066718]])"
      ]
     },
     "execution_count": 24,
     "metadata": {},
     "output_type": "execute_result"
    }
   ],
   "source": [
    "random_arr_2"
   ]
  },
  {
   "cell_type": "code",
   "execution_count": 25,
   "id": "5cd7afad-c8f4-4c7e-9e05-50c512afe3ed",
   "metadata": {},
   "outputs": [
    {
     "data": {
      "text/plain": [
       "15"
      ]
     },
     "execution_count": 25,
     "metadata": {},
     "output_type": "execute_result"
    }
   ],
   "source": [
    "random_arr.size"
   ]
  },
  {
   "cell_type": "code",
   "execution_count": 26,
   "id": "eae8bc28-dfee-48ca-be2a-9ecb2484a44a",
   "metadata": {},
   "outputs": [
    {
     "data": {
      "text/plain": [
       "(3, 5)"
      ]
     },
     "execution_count": 26,
     "metadata": {},
     "output_type": "execute_result"
    }
   ],
   "source": [
    "random_arr.shape\n"
   ]
  },
  {
   "cell_type": "code",
   "execution_count": 27,
   "id": "225b9822-7599-4bdb-a5f0-1c606a69d9fe",
   "metadata": {},
   "outputs": [
    {
     "data": {
      "text/plain": [
       "array([[[0.44405887, 0.03195566, 0.48215005],\n",
       "        [0.01160586, 0.26642983, 0.83169048],\n",
       "        [0.71260409, 0.95413964, 0.81866019]],\n",
       "\n",
       "       [[0.63230586, 0.25168964, 0.60303173],\n",
       "        [0.6291115 , 0.45231532, 0.18122189],\n",
       "        [0.74536742, 0.37057584, 0.80204086]],\n",
       "\n",
       "       [[0.06530497, 0.7224004 , 0.5790138 ],\n",
       "        [0.95182524, 0.12045602, 0.4393414 ],\n",
       "        [0.88033902, 0.39002801, 0.74404043]],\n",
       "\n",
       "       [[0.23103538, 0.12632756, 0.96682791],\n",
       "        [0.31647626, 0.79294377, 0.69294731],\n",
       "        [0.19630915, 0.29666744, 0.9967065 ]],\n",
       "\n",
       "       [[0.15235855, 0.1212765 , 0.42101712],\n",
       "        [0.87716084, 0.32848909, 0.91897053],\n",
       "        [0.56666233, 0.80082601, 0.43674531]]])"
      ]
     },
     "execution_count": 27,
     "metadata": {},
     "output_type": "execute_result"
    }
   ],
   "source": [
    "random_arr_3 = np.random.rand(5,3,3)\n",
    "random_arr_3"
   ]
  },
  {
   "cell_type": "code",
   "execution_count": 28,
   "id": "e24dfdd0-6d6e-4039-8f8f-a2693334c8e7",
   "metadata": {},
   "outputs": [],
   "source": [
    "# pseudo-random numbers\n",
    "np.random.seed()"
   ]
  },
  {
   "cell_type": "code",
   "execution_count": 29,
   "id": "08402b16-839f-4a69-8414-8ad290144d62",
   "metadata": {},
   "outputs": [
    {
     "data": {
      "text/plain": [
       "array([[3, 0, 5],\n",
       "       [5, 9, 2],\n",
       "       [5, 8, 6],\n",
       "       [8, 2, 4],\n",
       "       [3, 5, 4]])"
      ]
     },
     "execution_count": 29,
     "metadata": {},
     "output_type": "execute_result"
    }
   ],
   "source": [
    "random_arr_4 = np.random.randint(10, size=(5,3))\n",
    "random_arr_4"
   ]
  },
  {
   "cell_type": "code",
   "execution_count": 30,
   "id": "e311d177-34f9-41eb-bdc8-4207596eef14",
   "metadata": {},
   "outputs": [],
   "source": [
    "# test = np.array(np.arange(0, 10, 2))\n",
    "# test"
   ]
  },
  {
   "cell_type": "markdown",
   "id": "60309a06-173c-4183-ba8e-97c079ef8437",
   "metadata": {},
   "source": [
    "# Viewing Arrays and Matrices"
   ]
  },
  {
   "cell_type": "code",
   "execution_count": 32,
   "id": "a90ea5c3-eb1b-4d60-9741-6281aa31b92b",
   "metadata": {},
   "outputs": [],
   "source": [
    "test = np.unique(random_arr_4)"
   ]
  },
  {
   "cell_type": "code",
   "execution_count": 34,
   "id": "28213f66-1793-46a6-8484-e6cc7a6ac037",
   "metadata": {},
   "outputs": [
    {
     "name": "stdout",
     "output_type": "stream",
     "text": [
      "[0, 2, 3, 4, 5, 6, 8, 9]\n"
     ]
    }
   ],
   "source": [
    "print(list(test))"
   ]
  },
  {
   "cell_type": "code",
   "execution_count": 45,
   "id": "b8fab9ce-5fe6-43eb-8436-bc4473990619",
   "metadata": {},
   "outputs": [
    {
     "data": {
      "text/plain": [
       "array([0, 2, 3, 4, 5, 6, 8, 9])"
      ]
     },
     "execution_count": 45,
     "metadata": {},
     "output_type": "execute_result"
    }
   ],
   "source": [
    "test"
   ]
  },
  {
   "cell_type": "code",
   "execution_count": 36,
   "id": "70009d88-16fd-479c-b129-165845446959",
   "metadata": {},
   "outputs": [
    {
     "data": {
      "text/plain": [
       "array([1, 2, 3, 4, 5])"
      ]
     },
     "execution_count": 36,
     "metadata": {},
     "output_type": "execute_result"
    }
   ],
   "source": [
    "a1"
   ]
  },
  {
   "cell_type": "code",
   "execution_count": 37,
   "id": "a50d00cf-b279-4f18-90ce-06f3e3245a08",
   "metadata": {},
   "outputs": [
    {
     "data": {
      "text/plain": [
       "1"
      ]
     },
     "execution_count": 37,
     "metadata": {},
     "output_type": "execute_result"
    }
   ],
   "source": [
    "a1[0]"
   ]
  },
  {
   "cell_type": "code",
   "execution_count": 38,
   "id": "e6c4fa09-fd8e-462f-bef7-976e9813dffa",
   "metadata": {},
   "outputs": [
    {
     "data": {
      "text/plain": [
       "array([1, 2, 3, 4])"
      ]
     },
     "execution_count": 38,
     "metadata": {},
     "output_type": "execute_result"
    }
   ],
   "source": [
    "a2[0]"
   ]
  },
  {
   "cell_type": "code",
   "execution_count": 39,
   "id": "1057985d-03aa-49d9-a278-642b49ee603e",
   "metadata": {},
   "outputs": [
    {
     "data": {
      "text/plain": [
       "array([[1, 2, 3, 4],\n",
       "       [1, 1, 2, 3],\n",
       "       [1, 2, 3, 5]])"
      ]
     },
     "execution_count": 39,
     "metadata": {},
     "output_type": "execute_result"
    }
   ],
   "source": [
    "a3[0]"
   ]
  },
  {
   "cell_type": "code",
   "execution_count": 46,
   "id": "4852a2ca-a4ff-4185-b582-5a53977fb7f3",
   "metadata": {},
   "outputs": [
    {
     "data": {
      "text/plain": [
       "(2, 3, 4)"
      ]
     },
     "execution_count": 46,
     "metadata": {},
     "output_type": "execute_result"
    }
   ],
   "source": [
    "a3.shape"
   ]
  },
  {
   "cell_type": "code",
   "execution_count": 47,
   "id": "76755cfe-adc3-4205-a767-65fa29e5bf1b",
   "metadata": {},
   "outputs": [
    {
     "data": {
      "text/plain": [
       "array([[[1, 2, 3, 4],\n",
       "        [1, 1, 2, 3],\n",
       "        [1, 2, 3, 5]],\n",
       "\n",
       "       [[1, 2, 3, 4],\n",
       "        [1, 1, 2, 3],\n",
       "        [1, 2, 3, 5]]])"
      ]
     },
     "execution_count": 47,
     "metadata": {},
     "output_type": "execute_result"
    }
   ],
   "source": [
    "a3"
   ]
  },
  {
   "cell_type": "code",
   "execution_count": 48,
   "id": "e4eb6afd-7ef3-49d0-9406-9ac034cb6b04",
   "metadata": {},
   "outputs": [
    {
     "data": {
      "text/plain": [
       "array([[1, 2, 3, 4],\n",
       "       [1, 1, 2, 3],\n",
       "       [1, 2, 3, 5]])"
      ]
     },
     "execution_count": 48,
     "metadata": {},
     "output_type": "execute_result"
    }
   ],
   "source": [
    "a3[0]"
   ]
  },
  {
   "cell_type": "code",
   "execution_count": 51,
   "id": "63ffced3-8e6e-4d89-b579-be5377fe5d58",
   "metadata": {},
   "outputs": [
    {
     "ename": "SyntaxError",
     "evalue": "invalid syntax (1726033345.py, line 1)",
     "output_type": "error",
     "traceback": [
      "\u001b[1;36m  Cell \u001b[1;32mIn[51], line 1\u001b[1;36m\u001b[0m\n\u001b[1;33m    a3[1][]\u001b[0m\n\u001b[1;37m          ^\u001b[0m\n\u001b[1;31mSyntaxError\u001b[0m\u001b[1;31m:\u001b[0m invalid syntax\n"
     ]
    }
   ],
   "source": [
    "a3[1][]"
   ]
  },
  {
   "cell_type": "code",
   "execution_count": null,
   "id": "e0350674-e061-4c3e-ad79-e1997a72ba8b",
   "metadata": {},
   "outputs": [],
   "source": []
  }
 ],
 "metadata": {
  "kernelspec": {
   "display_name": "Python 3 (ipykernel)",
   "language": "python",
   "name": "python3"
  },
  "language_info": {
   "codemirror_mode": {
    "name": "ipython",
    "version": 3
   },
   "file_extension": ".py",
   "mimetype": "text/x-python",
   "name": "python",
   "nbconvert_exporter": "python",
   "pygments_lexer": "ipython3",
   "version": "3.12.4"
  }
 },
 "nbformat": 4,
 "nbformat_minor": 5
}
